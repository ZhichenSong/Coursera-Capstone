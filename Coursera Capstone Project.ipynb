{
    "nbformat_minor": 1, 
    "cells": [
        {
            "source": "# Coursera Capstone Project\n   ### Battle of Neighborhoods", 
            "cell_type": "markdown", 
            "metadata": {
                "collapsed": true
            }
        }, 
        {
            "source": "### The purpose of this document is\n> to be the workspace of the final capstone project    \n> to serve as a learning/practice hut for basic python language syntax, different libraries, etc.", 
            "cell_type": "markdown", 
            "metadata": {}
        }, 
        {
            "source": "### Project Description\n\n#### Students will be given a city, where they are expected to: \n* segment it into different neighborhoods using the geographical coordinates of the center of each neighborhood\n* using a combination of location data and machine learning\n* group the neighbourhoods into clusters \n* make further decisions based on the outcome.", 
            "cell_type": "markdown", 
            "metadata": {}
        }, 
        {
            "source": "# Submission #1", 
            "cell_type": "markdown", 
            "metadata": {}
        }, 
        {
            "source": "import pandas as pd\nimport numpy as np", 
            "cell_type": "code", 
            "metadata": {}, 
            "outputs": [], 
            "execution_count": 1
        }, 
        {
            "source": "print('Hello Capstone Project Course!')", 
            "cell_type": "code", 
            "metadata": {}, 
            "outputs": [
                {
                    "output_type": "stream", 
                    "name": "stdout", 
                    "text": "Hello Capstone Project Course!\n"
                }
            ], 
            "execution_count": 2
        }
    ], 
    "metadata": {
        "kernelspec": {
            "display_name": "Python 3.5", 
            "name": "python3", 
            "language": "python"
        }, 
        "language_info": {
            "mimetype": "text/x-python", 
            "nbconvert_exporter": "python", 
            "version": "3.5.5", 
            "name": "python", 
            "pygments_lexer": "ipython3", 
            "file_extension": ".py", 
            "codemirror_mode": {
                "version": 3, 
                "name": "ipython"
            }
        }
    }, 
    "nbformat": 4
}